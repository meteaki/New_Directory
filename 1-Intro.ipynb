{
 "cells": [
  {
   "cell_type": "code",
   "execution_count": null,
   "metadata": {},
   "outputs": [],
   "source": [
    "print(\"first python rewiev\")"
   ]
  },
  {
   "cell_type": "code",
   "execution_count": 1,
   "metadata": {},
   "outputs": [
    {
     "name": "stdout",
     "output_type": "stream",
     "text": [
      "<class 'str'>\n",
      "D\n"
     ]
    }
   ],
   "source": [
    "sehir = 'ADANALI'\n",
    "print(type(sehir))\n",
    "print(sehir[1])"
   ]
  },
  {
   "cell_type": "code",
   "execution_count": 4,
   "metadata": {},
   "outputs": [
    {
     "name": "stdout",
     "output_type": "stream",
     "text": [
      "ANALI\n",
      "DANA\n",
      "AAA\n",
      "ANADA\n"
     ]
    },
    {
     "data": {
      "text/plain": [
       "3"
      ]
     },
     "execution_count": 4,
     "metadata": {},
     "output_type": "execute_result"
    }
   ],
   "source": [
    "str1 = sehir[2:]\n",
    "print(str1)\n",
    "str2 = sehir[1:5]\n",
    "print(str2)\n",
    "str3 = sehir[:5:2]\n",
    "print(str3)\n",
    "str4 = sehir[-3:-8:-1]\n",
    "print(str4)\n",
    "a_sayisi = sehir.count(\"A\")\n",
    "a_sayisi"
   ]
  },
  {
   "cell_type": "code",
   "execution_count": 5,
   "metadata": {},
   "outputs": [
    {
     "data": {
      "text/plain": [
       "True"
      ]
     },
     "execution_count": 5,
     "metadata": {},
     "output_type": "execute_result"
    }
   ],
   "source": [
    "basla = sehir.startswith(\"A\")\n",
    "basla"
   ]
  },
  {
   "cell_type": "code",
   "execution_count": 6,
   "metadata": {},
   "outputs": [
    {
     "data": {
      "text/plain": [
       "True"
      ]
     },
     "execution_count": 6,
     "metadata": {},
     "output_type": "execute_result"
    }
   ],
   "source": [
    "bitis = sehir.endswith(\"I\")\n",
    "bitis\n",
    "basla and bitis"
   ]
  },
  {
   "cell_type": "code",
   "execution_count": 8,
   "metadata": {},
   "outputs": [
    {
     "name": "stdout",
     "output_type": "stream",
     "text": [
      "Bugün hava cok güzel\n",
      "Bugün Hava Cok Güzel\n",
      "bugün hava cok güzel\n",
      "BUGÜN HAVA COK GÜZEL\n"
     ]
    }
   ],
   "source": [
    "cümle = \"bugün hava cok güzel\"\n",
    "print(cümle.capitalize())\n",
    "print(cümle.title())\n",
    "print(cümle.lower())\n",
    "print(cümle.upper())\n",
    "cümle = cümle.capitalize()"
   ]
  },
  {
   "cell_type": "code",
   "execution_count": 9,
   "metadata": {},
   "outputs": [
    {
     "data": {
      "text/plain": [
       "['Bugün', 'hava', 'cok', 'güzel']"
      ]
     },
     "execution_count": 9,
     "metadata": {},
     "output_type": "execute_result"
    }
   ],
   "source": [
    "splited_cümle = cümle.split()\n",
    "splited_cümle"
   ]
  },
  {
   "cell_type": "code",
   "execution_count": 13,
   "metadata": {},
   "outputs": [
    {
     "name": "stdout",
     "output_type": "stream",
     "text": [
      "ahsi\n"
     ]
    }
   ],
   "source": [
    "ifade1 = \" yyyyyahsiyyyyy    \"\n",
    "ifade1 = ifade1.strip()\n",
    "ifade1\n",
    "ifade2 = ifade1.lstrip(\"y\")\n",
    "ifade2\n",
    "ifade3 = ifade2.rstrip(\"y\")\n",
    "print(ifade3)"
   ]
  },
  {
   "cell_type": "code",
   "execution_count": null,
   "metadata": {},
   "outputs": [],
   "source": []
  }
 ],
 "metadata": {
  "interpreter": {
   "hash": "378dfe18a879dcba56af6bdbfe2f90f6204a7a8df2bde250fd101f1a1497faaa"
  },
  "kernelspec": {
   "display_name": "Python 3.10.0 64-bit",
   "language": "python",
   "name": "python3"
  },
  "language_info": {
   "codemirror_mode": {
    "name": "ipython",
    "version": 3
   },
   "file_extension": ".py",
   "mimetype": "text/x-python",
   "name": "python",
   "nbconvert_exporter": "python",
   "pygments_lexer": "ipython3",
   "version": "3.10.0"
  },
  "orig_nbformat": 4
 },
 "nbformat": 4,
 "nbformat_minor": 2
}
